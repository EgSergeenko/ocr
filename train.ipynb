{
 "cells": [
  {
   "cell_type": "code",
   "execution_count": null,
   "metadata": {},
   "outputs": [],
   "source": [
    "import torch\n",
    "import wandb\n",
    "from sklearn.model_selection import train_test_split\n",
    "from torchmetrics import CharErrorRate\n",
    "from tqdm import tqdm\n",
    "\n",
    "from dataset import CapchaDataset\n",
    "from model import CRNN\n",
    "from train import eval_epoch, train_epoch\n",
    "from utils import Decoder, get_dataloader"
   ]
  },
  {
   "cell_type": "code",
   "execution_count": null,
   "metadata": {},
   "outputs": [],
   "source": [
    "config = {'n_epochs': 10}\n",
    "\n",
    "wandb.init(project='ocr', config=config)"
   ]
  },
  {
   "cell_type": "code",
   "execution_count": null,
   "metadata": {},
   "outputs": [],
   "source": [
    "device = torch.device('cpu')\n",
    "if torch.cuda.is_available():\n",
    "    device = torch.device('cuda')"
   ]
  },
  {
   "cell_type": "code",
   "execution_count": null,
   "metadata": {},
   "outputs": [],
   "source": [
    "train_set = CapchaDataset((3, 5), samples=10000)\n",
    "eval_set = CapchaDataset((3, 5), samples=1000)\n",
    "\n",
    "train_loader = get_dataloader(\n",
    "    dataset=train_set,\n",
    "    batch_size=64,\n",
    "    mode='train',\n",
    "    num_workers=8,\n",
    ")\n",
    "\n",
    "eval_loader = get_dataloader(\n",
    "    dataset=eval_set,\n",
    "    batch_size=64,\n",
    "    mode='eval',\n",
    "    num_workers=8,\n",
    ")"
   ]
  },
  {
   "cell_type": "code",
   "execution_count": null,
   "metadata": {},
   "outputs": [],
   "source": [
    "model = CRNN(n_classes=train_set.num_classes).to(device)\n",
    "\n",
    "criterion = torch.nn.CTCLoss(blank=train_set.blank_label)\n",
    "\n",
    "optimizer = torch.optim.AdamW(model.parameters())\n",
    "\n",
    "decoder = Decoder(\n",
    "    labels=['0', '1', '2', '3', '4', '5', '6', '7', '8', '9', '-'],\n",
    "    blank_idx=train_set.blank_label,\n",
    ")\n",
    "\n",
    "cer = CharErrorRate()"
   ]
  },
  {
   "cell_type": "code",
   "execution_count": null,
   "metadata": {},
   "outputs": [],
   "source": [
    "best_eval_score = 1\n",
    "\n",
    "checkpoint_filepath = 'best_model.pth'\n",
    "\n",
    "for epoch in tqdm(range(config['n_epochs'])):\n",
    "    train_loss, y_pred, y_true = train_epoch(\n",
    "        dataloader=train_loader,\n",
    "        model=model,\n",
    "        criterion=criterion,\n",
    "        optimizer=optimizer,\n",
    "        decoder=decoder,\n",
    "        device=device,\n",
    "    )\n",
    "    \n",
    "    train_score = cer(y_pred, y_true)\n",
    "    \n",
    "    eval_loss, y_pred, y_true = eval_epoch(\n",
    "        dataloader=eval_loader,\n",
    "        model=model,\n",
    "        criterion=criterion,\n",
    "        decoder=decoder,\n",
    "        device=device,\n",
    "    )\n",
    "    \n",
    "    eval_score = cer(y_pred, y_true)\n",
    "    \n",
    "    wandb.log(\n",
    "        {\n",
    "            'Loss (train)': train_loss,\n",
    "            'Loss (eval)': eval_loss,\n",
    "            'CER (train)': train_score.item(),\n",
    "            'CER (eval)': eval_score.item(),\n",
    "        },\n",
    "    )\n",
    "    \n",
    "    if eval_score < best_eval_score:\n",
    "        best_eval_score = eval_score\n",
    "        torch.save(model.state_dict(), checkpoint_filepath)"
   ]
  },
  {
   "cell_type": "code",
   "execution_count": null,
   "metadata": {},
   "outputs": [],
   "source": [
    "wandb.finish()"
   ]
  },
  {
   "cell_type": "code",
   "execution_count": null,
   "metadata": {},
   "outputs": [],
   "source": []
  }
 ],
 "metadata": {
  "kernelspec": {
   "display_name": "Python 3 (ipykernel)",
   "language": "python",
   "name": "python3"
  },
  "language_info": {
   "codemirror_mode": {
    "name": "ipython",
    "version": 3
   },
   "file_extension": ".py",
   "mimetype": "text/x-python",
   "name": "python",
   "nbconvert_exporter": "python",
   "pygments_lexer": "ipython3",
   "version": "3.10.10"
  }
 },
 "nbformat": 4,
 "nbformat_minor": 1
}
